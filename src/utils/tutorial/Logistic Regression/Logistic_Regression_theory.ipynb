{
  "cells": [
    {
      "cell_type": "markdown",
      "metadata": {
        "id": "lWlRDOHY1CIw"
      },
      "source": [
        "# Logistic Regression\n",
        "\n",
        "![Logistic Regression](https://drive.google.com/uc?export=view&id=1_zRhqUmMdznHJNGWQuH050wvr-5n_2WS)\n",
        "\n",
        "In statistics logistic regression is used to model the probability of a certain class or event. I will be focusing more on the basics and implementation of the model, and not go too deep into the math part in this post.\n",
        "\n",
        "Logistic regression is similar to linear regression because both of these involve estimating the values of parameters used in the prediction equation based on the given training data. Linear regression predicts the value of some continuous, dependent variable. Whereas logistic regression predicts the probability of an event or class that is dependent on other factors. Thus the output of logistic regression always lies between 0 and 1. Because of this property it is commonly used for classification purpose."
      ]
    },
    {
      "cell_type": "markdown",
      "metadata": {
        "id": "tkKuz_oeyuTI"
      },
      "source": [
        "\n",
        "## Logistic Model\n",
        "Consider a model with features *x<sub>1</sub>, x<sub>2</sub>, x<sub>3</sub> … x<sub>n</sub>*. Let the binary output be denoted by *Y*, that can take the values 0 or 1.  \n",
        "Let *p* be the probability of *Y = 1*, we can denote it as *p = P(Y=1)*.  \n",
        "The mathematical relationship between these variables can be denoted as:  \n",
        "\n",
        "$$ ln(\\frac{p}{1-p}) = b_0 + b_1x_1 + b_2x_2 + b_3x_3 ... b_nx_n $$\n",
        "\n",
        "Here the term $\\frac{p}{1-p}$ is known as the *odds* and denotes the likelihood of the event taking place. Thus $ln(\\frac{p}{1-p})$ is known as the *log odds* and is simply used to map the probabilty that lies between 0 and 1 to a range between $(-\\infty, +\\infty)$. The terms $b_0, b_1, b_2 ...$ are parameters (or weights) that we will estimate during training.   \n",
        "\n",
        "So this is just the basic math behind what we are going to do. We are interested in the probability *p* in this equation. So we simplify the equation to obtain the value of p:  \n",
        "1. The log term $ln$ on the LHS can be removed by raising the RHS as a power of $e$:  \n",
        "$$ \\frac{p}{1-p}  = e^{b_0 + b_1x_1 + b_2x_2 + b_3x_3 ... b_nx_n} $$\n",
        "2. Now we can easily simplify to obtain the value of $p$:  \n",
        "$$ p = \\frac{e^{b_0 + b_1x_1 + b_2x_2 + b_3x_3 ... b_nx_n}}{1 + e^{b_0 + b_1x_1 + b_2x_2 + b_3x_3 ... b_nx_n}} $$\n",
        "$$ or $$\n",
        "$$ p = \\frac{1}{1 + e^{-(b_0 + b_1x_1 + b_2x_2 + b_3x_3 ... b_nx_n)}} $$   \n",
        "\n",
        "This actually turns out to be the equation of the *Sigmoid Function* which is widely used in other machine learning applications. The *Sigmoid Function* is given by:\n",
        "$$ S(x) = \\frac{1}{1+e^{-x}} $$\n",
        "\n",
        "Now we will be using the above derived equation to make our predictions. Before that we will train our model to obtain the values of our parameters $b_0, b_1, b_2 ...$ that result in least error. This is where the error or loss function comes in."
      ]
    },
    {
      "cell_type": "markdown",
      "metadata": {
        "id": "J6n-a4xDy5u_"
      },
      "source": [
        "## Loss Function\n",
        "The loss is basically the error in our predicted value. In other words it is a difference between our predicted value and the actual value. We will be using the [L2 Loss Function](https://afteracademy.com/blog/what-are-l1-and-l2-loss-functions) to calculate the error. Theoretically you can use any function to calculate the error. This function can be broken down as:\n",
        "1. Let the actual value be $y_i$. Let the value predicted using our model be denoted as $\\bar{y_i}$. Find the difference between the actual and predicted value. \n",
        "2. Square this difference. \n",
        "3. Find the sum across all the values in training data. \n",
        "$$ L = \\sum_{i = 1}^n(y_i - \\bar{y_i})^2 $$  \n",
        "\n",
        "Now that we have the error, we need to update the values of our parameters to minimize this error. This is where the \"learning\" actually happens, since our model is updating itself based on it's previous output to obtain a more accurate output in the next step. We will be using the *Gradient Descent Algorithm* to estimate our parameters. Another commonly used algorithm is the [Maximum Likelihood Estimation](https://en.wikipedia.org/wiki/Maximum_likelihood_estimation)."
      ]
    },
    {
      "cell_type": "markdown",
      "metadata": {
        "id": "T_hesTCwy_gi"
      },
      "source": [
        "\n",
        "## The Gradient Descent Algorithm\n",
        "You might know that the partial derivative of a function at it's minimum value is equal to 0. So gradient descent basically uses this concept to estimate the parameters or weights of our model by minimizing the loss function.\n",
        "For simplicity, for the rest of this tutorial let us assume that our ouptput depends only on a single feature $x$. So we can rewrite our equation as:\n",
        "$$ \\bar{y_i} = p = \\frac{1}{1 + e^{-(b_0 + b_1x_i)}} = \\frac{1}{1 + e^{-b_0 -b_1x_i}} $$  \n",
        "Thus we need to estimate the values of weights $b_0$ and $b_1$ using our given training data.\n",
        "1. Initially let $b_0=0$ and $b_1=0$. Let $L$ be the learning rate. The learning rate controls by how much the values of $b_0$ and $b_1$ are updated at each step in the learning process. Here let $L = 0.001$.\n",
        "2. Calculate the partial derivative with respect to $b_0$ and $b_1$. The value of the partial derivative will tell us how far the loss function is from it's minimum value. It is a measure of how much our weights need to be updated to attain minimum or ideally 0 error. In case you have more than one feature, you need to calculate the partial derivative for each weight $b_0$, $b_1$ ... $b_n$ where $n$ is the number of features.\n",
        "$$ D_{b_0} = -2 \\sum_{i=1}^n(y_i - \\bar{y_i}) \\times \\bar{y_i} \\times (1 - \\bar{y_i}) $$\n",
        "$$ D_{b_1} = -2 \\sum_{i=1}^n(y_i - \\bar{y_i}) \\times \\bar{y_i} \\times (1 - \\bar{y_i}) \\times x_i $$\n",
        "3. Next we update the values of $b_0$ and $b_1$:\n",
        "$$ b_0 = b_0 - L \\times D_{b_0} $$\n",
        "$$ b_1 = b_1 - L \\times D_{b_1} $$  \n",
        "4. We repeat this process until our loss function is a very small value or ideally reaches 0 (meaning no errors and 100% accuracy). The number of times we repeat this learning process is known as iterations or epochs. \n",
        "\n"
      ]
    }
  ],
  "metadata": {
    "colab": {
      "collapsed_sections": [],
      "name": "Logistic Regression.ipynb",
      "provenance": [],
      "toc_visible": true
    },
    "interpreter": {
      "hash": "fec13c077df37747858e85c1c59012fe8dc4acbf510e296df8ee678ed378d277"
    },
    "kernelspec": {
      "display_name": "Python 3.8.3 64-bit ('environ': venv)",
      "name": "python3"
    },
    "language_info": {
      "name": "python",
      "version": "3.8.3"
    }
  },
  "nbformat": 4,
  "nbformat_minor": 2
}
